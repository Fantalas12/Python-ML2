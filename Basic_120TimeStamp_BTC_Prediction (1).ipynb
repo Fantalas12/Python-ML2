{
  "nbformat": 4,
  "nbformat_minor": 0,
  "metadata": {
    "colab": {
      "provenance": []
    },
    "kernelspec": {
      "name": "python3",
      "display_name": "Python 3"
    }
  },
  "cells": [
    {
      "cell_type": "markdown",
      "metadata": {
        "id": "xpAuMVCwfWs8"
      },
      "source": [
        "# Recurrent Neural Network"
      ]
    },
    {
      "cell_type": "markdown",
      "metadata": {
        "id": "nxJfRe4bfYVA"
      },
      "source": [
        "## Part 1 - Data Preprocessing"
      ]
    },
    {
      "cell_type": "markdown",
      "metadata": {
        "id": "ir9zwETrfbrp"
      },
      "source": [
        "### Importing the libraries"
      ]
    },
    {
      "cell_type": "code",
      "metadata": {
        "id": "ZT1f24vHffuf"
      },
      "source": [
        "import numpy as np\n",
        "import matplotlib.pyplot as plt\n",
        "import pandas as pd"
      ],
      "execution_count": 1,
      "outputs": []
    },
    {
      "cell_type": "markdown",
      "metadata": {
        "id": "nQ47JAxrgmaL"
      },
      "source": [
        "### Importing the training set"
      ]
    },
    {
      "cell_type": "code",
      "metadata": {
        "id": "1xiv3pJOgqY3"
      },
      "source": [
        "dataset_train = pd.read_csv('BTC_Train.csv')\n",
        "training_set = dataset_train.iloc[:, 1:2].values"
      ],
      "execution_count": 2,
      "outputs": []
    },
    {
      "cell_type": "markdown",
      "metadata": {
        "id": "HT8_2UJegtG5"
      },
      "source": [
        "### Feature Scaling"
      ]
    },
    {
      "cell_type": "code",
      "metadata": {
        "id": "OTrF2kR7gx9x"
      },
      "source": [
        "from sklearn.preprocessing import MinMaxScaler\n",
        "sc = MinMaxScaler(feature_range = (0, 1))\n",
        "training_set_scaled = sc.fit_transform(training_set)"
      ],
      "execution_count": 3,
      "outputs": []
    },
    {
      "cell_type": "markdown",
      "metadata": {
        "id": "JyYgYocqhNUg"
      },
      "source": [
        "### Creating a data structure with 120 timesteps and 1 output"
      ]
    },
    {
      "cell_type": "code",
      "metadata": {
        "id": "iofU21B0i6ST"
      },
      "source": [
        "X_train = []\n",
        "y_train = []\n",
        "for i in range(120, 2449):\n",
        "    X_train.append(training_set_scaled[i-120:i, 0])\n",
        "    y_train.append(training_set_scaled[i, 0])\n",
        "X_train, y_train = np.array(X_train), np.array(y_train)"
      ],
      "execution_count": 4,
      "outputs": []
    },
    {
      "cell_type": "markdown",
      "metadata": {
        "id": "D8yaN7Zvi95l"
      },
      "source": [
        "### Reshaping"
      ]
    },
    {
      "cell_type": "code",
      "metadata": {
        "id": "FOXqJHmNjBkz"
      },
      "source": [
        "X_train = np.reshape(X_train, (X_train.shape[0], X_train.shape[1], 1))"
      ],
      "execution_count": 5,
      "outputs": []
    },
    {
      "cell_type": "markdown",
      "metadata": {
        "id": "ZRRSOJeVjEWV"
      },
      "source": [
        "## Part 2 - Building and Training the RNN"
      ]
    },
    {
      "cell_type": "markdown",
      "metadata": {
        "id": "k4XV88JMjHXG"
      },
      "source": [
        "### Importing the Keras libraries and packages"
      ]
    },
    {
      "cell_type": "code",
      "metadata": {
        "id": "9JRnqsxEjKsD"
      },
      "source": [
        "from keras.models import Sequential\n",
        "from keras.layers import Dense\n",
        "from keras.layers import LSTM\n",
        "from keras.layers import Dropout"
      ],
      "execution_count": 6,
      "outputs": []
    },
    {
      "cell_type": "markdown",
      "metadata": {
        "id": "FEIE-1s9jNzC"
      },
      "source": [
        "### Initialising the RNN"
      ]
    },
    {
      "cell_type": "code",
      "metadata": {
        "id": "1338dJ0UjRKH"
      },
      "source": [
        "regressor = Sequential()"
      ],
      "execution_count": 19,
      "outputs": []
    },
    {
      "cell_type": "markdown",
      "metadata": {
        "id": "62eg1OPGjT8z"
      },
      "source": [
        "### Adding the first LSTM layer and some Dropout regularisation"
      ]
    },
    {
      "cell_type": "code",
      "metadata": {
        "id": "2hIinyXUjbVU"
      },
      "source": [
        "regressor.add(LSTM(units = 90, return_sequences = True, input_shape = (X_train.shape[1], 1)))\n",
        "regressor.add(Dropout(0.25))"
      ],
      "execution_count": 20,
      "outputs": []
    },
    {
      "cell_type": "markdown",
      "metadata": {
        "id": "3XBIYLyOjlMx"
      },
      "source": [
        "### Adding a second LSTM layer and some Dropout regularisation"
      ]
    },
    {
      "cell_type": "code",
      "metadata": {
        "id": "UG7nrVaSjuZ2"
      },
      "source": [
        "regressor.add(LSTM(units = 100, return_sequences = True))\n",
        "regressor.add(Dropout(0.25))"
      ],
      "execution_count": 21,
      "outputs": []
    },
    {
      "cell_type": "markdown",
      "metadata": {
        "id": "Ey3fHVnGj1cu"
      },
      "source": [
        "### Adding a third LSTM layer and some Dropout regularisation"
      ]
    },
    {
      "cell_type": "code",
      "metadata": {
        "id": "PuNi6PgFj7jO"
      },
      "source": [
        "regressor.add(LSTM(units = 110, return_sequences = True))\n",
        "regressor.add(Dropout(0.25))\n",
        "\n",
        "regressor.add(LSTM(units = 100, return_sequences = True))\n",
        "regressor.add(Dropout(0.25))"
      ],
      "execution_count": 22,
      "outputs": []
    },
    {
      "cell_type": "markdown",
      "metadata": {
        "id": "SYTrtfTmj933"
      },
      "source": [
        "### Adding a fourth LSTM layer and some Dropout regularisation"
      ]
    },
    {
      "cell_type": "code",
      "metadata": {
        "id": "Jp4Ty8fRkBYV"
      },
      "source": [
        "regressor.add(LSTM(units = 90))\n",
        "regressor.add(Dropout(0.25))"
      ],
      "execution_count": 23,
      "outputs": []
    },
    {
      "cell_type": "markdown",
      "metadata": {
        "id": "9ABI6rOIkHhk"
      },
      "source": [
        "### Adding the output layer"
      ]
    },
    {
      "cell_type": "code",
      "metadata": {
        "id": "aM6R1z4WkME8"
      },
      "source": [
        "regressor.add(Dense(units = 1))"
      ],
      "execution_count": 24,
      "outputs": []
    },
    {
      "cell_type": "markdown",
      "metadata": {
        "id": "zLx4K7uUkPSh"
      },
      "source": [
        "### Compiling the RNN"
      ]
    },
    {
      "cell_type": "code",
      "metadata": {
        "id": "XTrhVN-tkbko"
      },
      "source": [
        "regressor.compile(optimizer = 'adam', loss = 'mean_squared_error')"
      ],
      "execution_count": 25,
      "outputs": []
    },
    {
      "cell_type": "markdown",
      "metadata": {
        "id": "-mPhwKGkkebi"
      },
      "source": [
        "### Fitting the RNN to the Training set"
      ]
    },
    {
      "cell_type": "code",
      "metadata": {
        "id": "I06Nkrz5kkb-",
        "colab": {
          "base_uri": "https://localhost:8080/"
        },
        "outputId": "e8ae148e-6648-4c70-e95d-ef09fc34fd03"
      },
      "source": [
        "regressor.fit(X_train, y_train, epochs = 100, batch_size = 32)"
      ],
      "execution_count": 26,
      "outputs": [
        {
          "output_type": "stream",
          "name": "stdout",
          "text": [
            "Epoch 1/100\n",
            "73/73 [==============================] - 45s 474ms/step - loss: 0.0051\n",
            "Epoch 2/100\n",
            "73/73 [==============================] - 35s 477ms/step - loss: 0.0023\n",
            "Epoch 3/100\n",
            "73/73 [==============================] - 35s 475ms/step - loss: 0.0020\n",
            "Epoch 4/100\n",
            "73/73 [==============================] - 34s 464ms/step - loss: 0.0019\n",
            "Epoch 5/100\n",
            "73/73 [==============================] - 33s 454ms/step - loss: 0.0020\n",
            "Epoch 6/100\n",
            "73/73 [==============================] - 32s 442ms/step - loss: 0.0021\n",
            "Epoch 7/100\n",
            "73/73 [==============================] - 33s 457ms/step - loss: 0.0021\n",
            "Epoch 8/100\n",
            "73/73 [==============================] - 34s 473ms/step - loss: 0.0017\n",
            "Epoch 9/100\n",
            "73/73 [==============================] - 33s 449ms/step - loss: 0.0013\n",
            "Epoch 10/100\n",
            "73/73 [==============================] - 33s 454ms/step - loss: 0.0012\n",
            "Epoch 11/100\n",
            "73/73 [==============================] - 33s 445ms/step - loss: 0.0016\n",
            "Epoch 12/100\n",
            "73/73 [==============================] - 33s 452ms/step - loss: 0.0012\n",
            "Epoch 13/100\n",
            "73/73 [==============================] - 33s 458ms/step - loss: 0.0011\n",
            "Epoch 14/100\n",
            "73/73 [==============================] - 33s 454ms/step - loss: 0.0012\n",
            "Epoch 15/100\n",
            "73/73 [==============================] - 33s 446ms/step - loss: 0.0011\n",
            "Epoch 16/100\n",
            "73/73 [==============================] - 33s 448ms/step - loss: 0.0013\n",
            "Epoch 17/100\n",
            "73/73 [==============================] - 32s 443ms/step - loss: 9.8685e-04\n",
            "Epoch 18/100\n",
            "73/73 [==============================] - 33s 444ms/step - loss: 0.0011\n",
            "Epoch 19/100\n",
            "73/73 [==============================] - 34s 462ms/step - loss: 9.3607e-04\n",
            "Epoch 20/100\n",
            "73/73 [==============================] - 34s 463ms/step - loss: 8.8169e-04\n",
            "Epoch 21/100\n",
            "73/73 [==============================] - 35s 478ms/step - loss: 7.2845e-04\n",
            "Epoch 22/100\n",
            "73/73 [==============================] - 32s 435ms/step - loss: 8.2131e-04\n",
            "Epoch 23/100\n",
            "73/73 [==============================] - 33s 446ms/step - loss: 8.8783e-04\n",
            "Epoch 24/100\n",
            "73/73 [==============================] - 33s 453ms/step - loss: 7.7332e-04\n",
            "Epoch 25/100\n",
            "73/73 [==============================] - 32s 433ms/step - loss: 8.3608e-04\n",
            "Epoch 26/100\n",
            "73/73 [==============================] - 34s 463ms/step - loss: 7.6069e-04\n",
            "Epoch 27/100\n",
            "73/73 [==============================] - 33s 451ms/step - loss: 8.2602e-04\n",
            "Epoch 28/100\n",
            "73/73 [==============================] - 34s 462ms/step - loss: 7.4766e-04\n",
            "Epoch 29/100\n",
            "73/73 [==============================] - 32s 444ms/step - loss: 7.1889e-04\n",
            "Epoch 30/100\n",
            "73/73 [==============================] - 33s 455ms/step - loss: 5.8361e-04\n",
            "Epoch 31/100\n",
            "73/73 [==============================] - 34s 462ms/step - loss: 0.0010\n",
            "Epoch 32/100\n",
            "73/73 [==============================] - 33s 446ms/step - loss: 6.0037e-04\n",
            "Epoch 33/100\n",
            "73/73 [==============================] - 33s 450ms/step - loss: 8.3987e-04\n",
            "Epoch 34/100\n",
            "73/73 [==============================] - 33s 453ms/step - loss: 8.4477e-04\n",
            "Epoch 35/100\n",
            "73/73 [==============================] - 33s 452ms/step - loss: 5.7200e-04\n",
            "Epoch 36/100\n",
            "73/73 [==============================] - 32s 439ms/step - loss: 6.5099e-04\n",
            "Epoch 37/100\n",
            "73/73 [==============================] - 34s 465ms/step - loss: 5.6146e-04\n",
            "Epoch 38/100\n",
            "73/73 [==============================] - 33s 449ms/step - loss: 8.1810e-04\n",
            "Epoch 39/100\n",
            "73/73 [==============================] - 33s 457ms/step - loss: 6.2554e-04\n",
            "Epoch 40/100\n",
            "73/73 [==============================] - 32s 441ms/step - loss: 8.0087e-04\n",
            "Epoch 41/100\n",
            "73/73 [==============================] - 33s 452ms/step - loss: 7.0342e-04\n",
            "Epoch 42/100\n",
            "73/73 [==============================] - 33s 450ms/step - loss: 5.7336e-04\n",
            "Epoch 43/100\n",
            "73/73 [==============================] - 34s 466ms/step - loss: 7.1774e-04\n",
            "Epoch 44/100\n",
            "73/73 [==============================] - 32s 435ms/step - loss: 6.6903e-04\n",
            "Epoch 45/100\n",
            "73/73 [==============================] - 32s 445ms/step - loss: 7.2169e-04\n",
            "Epoch 46/100\n",
            "73/73 [==============================] - 33s 457ms/step - loss: 6.2899e-04\n",
            "Epoch 47/100\n",
            "73/73 [==============================] - 32s 440ms/step - loss: 6.0836e-04\n",
            "Epoch 48/100\n",
            "73/73 [==============================] - 32s 445ms/step - loss: 6.7261e-04\n",
            "Epoch 49/100\n",
            "73/73 [==============================] - 33s 459ms/step - loss: 5.1623e-04\n",
            "Epoch 50/100\n",
            "73/73 [==============================] - 32s 442ms/step - loss: 7.0930e-04\n",
            "Epoch 51/100\n",
            "73/73 [==============================] - 32s 437ms/step - loss: 6.9667e-04\n",
            "Epoch 52/100\n",
            "73/73 [==============================] - 33s 447ms/step - loss: 6.8508e-04\n",
            "Epoch 53/100\n",
            "73/73 [==============================] - 32s 438ms/step - loss: 6.0386e-04\n",
            "Epoch 54/100\n",
            "73/73 [==============================] - 32s 440ms/step - loss: 7.5021e-04\n",
            "Epoch 55/100\n",
            "73/73 [==============================] - 33s 459ms/step - loss: 6.1274e-04\n",
            "Epoch 56/100\n",
            "73/73 [==============================] - 33s 447ms/step - loss: 5.5147e-04\n",
            "Epoch 57/100\n",
            "73/73 [==============================] - 32s 434ms/step - loss: 5.9141e-04\n",
            "Epoch 58/100\n",
            "73/73 [==============================] - 32s 444ms/step - loss: 5.7385e-04\n",
            "Epoch 59/100\n",
            "73/73 [==============================] - 33s 447ms/step - loss: 6.1805e-04\n",
            "Epoch 60/100\n",
            "73/73 [==============================] - 32s 444ms/step - loss: 5.9215e-04\n",
            "Epoch 61/100\n",
            "73/73 [==============================] - 33s 447ms/step - loss: 6.0701e-04\n",
            "Epoch 62/100\n",
            "73/73 [==============================] - 33s 446ms/step - loss: 5.3617e-04\n",
            "Epoch 63/100\n",
            "73/73 [==============================] - 32s 445ms/step - loss: 8.6333e-04\n",
            "Epoch 64/100\n",
            "73/73 [==============================] - 32s 436ms/step - loss: 5.5038e-04\n",
            "Epoch 65/100\n",
            "73/73 [==============================] - 33s 458ms/step - loss: 6.2433e-04\n",
            "Epoch 66/100\n",
            "73/73 [==============================] - 33s 455ms/step - loss: 5.5575e-04\n",
            "Epoch 67/100\n",
            "73/73 [==============================] - 32s 439ms/step - loss: 6.1727e-04\n",
            "Epoch 68/100\n",
            "73/73 [==============================] - 33s 451ms/step - loss: 5.7743e-04\n",
            "Epoch 69/100\n",
            "73/73 [==============================] - 33s 447ms/step - loss: 6.7546e-04\n",
            "Epoch 70/100\n",
            "73/73 [==============================] - 32s 444ms/step - loss: 6.5074e-04\n",
            "Epoch 71/100\n",
            "73/73 [==============================] - 32s 438ms/step - loss: 4.9062e-04\n",
            "Epoch 72/100\n",
            "73/73 [==============================] - 33s 449ms/step - loss: 5.6125e-04\n",
            "Epoch 73/100\n",
            "73/73 [==============================] - 32s 439ms/step - loss: 4.8221e-04\n",
            "Epoch 74/100\n",
            "73/73 [==============================] - 32s 437ms/step - loss: 4.9164e-04\n",
            "Epoch 75/100\n",
            "73/73 [==============================] - 32s 439ms/step - loss: 4.6413e-04\n",
            "Epoch 76/100\n",
            "73/73 [==============================] - 33s 446ms/step - loss: 4.4701e-04\n",
            "Epoch 77/100\n",
            "73/73 [==============================] - 32s 434ms/step - loss: 5.9991e-04\n",
            "Epoch 78/100\n",
            "73/73 [==============================] - 33s 453ms/step - loss: 6.6750e-04\n",
            "Epoch 79/100\n",
            "73/73 [==============================] - 33s 457ms/step - loss: 5.3405e-04\n",
            "Epoch 80/100\n",
            "73/73 [==============================] - 33s 447ms/step - loss: 5.7117e-04\n",
            "Epoch 81/100\n",
            "73/73 [==============================] - 33s 444ms/step - loss: 4.6766e-04\n",
            "Epoch 82/100\n",
            "73/73 [==============================] - 33s 447ms/step - loss: 5.1907e-04\n",
            "Epoch 83/100\n",
            "73/73 [==============================] - 33s 446ms/step - loss: 5.3838e-04\n",
            "Epoch 84/100\n",
            "73/73 [==============================] - 32s 436ms/step - loss: 5.0150e-04\n",
            "Epoch 85/100\n",
            "73/73 [==============================] - 34s 460ms/step - loss: 4.0653e-04\n",
            "Epoch 86/100\n",
            "73/73 [==============================] - 34s 462ms/step - loss: 6.3916e-04\n",
            "Epoch 87/100\n",
            "73/73 [==============================] - 32s 445ms/step - loss: 5.2091e-04\n",
            "Epoch 88/100\n",
            "73/73 [==============================] - 33s 453ms/step - loss: 4.8061e-04\n",
            "Epoch 89/100\n",
            "73/73 [==============================] - 33s 451ms/step - loss: 5.4708e-04\n",
            "Epoch 90/100\n",
            "73/73 [==============================] - 32s 445ms/step - loss: 5.0938e-04\n",
            "Epoch 91/100\n",
            "73/73 [==============================] - 32s 434ms/step - loss: 4.7296e-04\n",
            "Epoch 92/100\n",
            "73/73 [==============================] - 33s 456ms/step - loss: 4.7105e-04\n",
            "Epoch 93/100\n",
            "73/73 [==============================] - 33s 448ms/step - loss: 5.5423e-04\n",
            "Epoch 94/100\n",
            "73/73 [==============================] - 33s 448ms/step - loss: 6.9209e-04\n",
            "Epoch 95/100\n",
            "73/73 [==============================] - 33s 447ms/step - loss: 5.0729e-04\n",
            "Epoch 96/100\n",
            "73/73 [==============================] - 33s 446ms/step - loss: 4.5853e-04\n",
            "Epoch 97/100\n",
            "73/73 [==============================] - 32s 435ms/step - loss: 4.5810e-04\n",
            "Epoch 98/100\n",
            "73/73 [==============================] - 33s 450ms/step - loss: 5.7059e-04\n",
            "Epoch 99/100\n",
            "73/73 [==============================] - 33s 459ms/step - loss: 6.0105e-04\n",
            "Epoch 100/100\n",
            "73/73 [==============================] - 33s 451ms/step - loss: 4.3088e-04\n"
          ]
        },
        {
          "output_type": "execute_result",
          "data": {
            "text/plain": [
              "<keras.callbacks.History at 0x7f42f0e5a910>"
            ]
          },
          "metadata": {},
          "execution_count": 26
        }
      ]
    },
    {
      "cell_type": "markdown",
      "metadata": {
        "id": "4hRau_lIkrE8"
      },
      "source": [
        "## Part 3 - Making the predictions and visualising the results"
      ]
    },
    {
      "cell_type": "markdown",
      "metadata": {
        "id": "SgJO6qEDksxD"
      },
      "source": [
        "### Getting the real stock price of 2017"
      ]
    },
    {
      "cell_type": "code",
      "metadata": {
        "id": "FmBT2zqukxTz"
      },
      "source": [
        "dataset_test = pd.read_csv('BTC_Test.csv', engine='python')\n",
        "real_stock_price = dataset_test.iloc[:, 1:2].values"
      ],
      "execution_count": 27,
      "outputs": []
    },
    {
      "cell_type": "markdown",
      "metadata": {
        "id": "GrvrLblxkz42"
      },
      "source": [
        "### Getting the predicted stock price of 2017"
      ]
    },
    {
      "cell_type": "code",
      "metadata": {
        "id": "emikTvUpk3Ck",
        "colab": {
          "base_uri": "https://localhost:8080/"
        },
        "outputId": "7d812f34-70d4-4453-f025-df22860c8a00"
      },
      "source": [
        "dataset_total = pd.concat((dataset_train['Open'], dataset_test['Open']), axis = 0)\n",
        "inputs = dataset_total[len(dataset_total) - len(dataset_test) - 120:].values\n",
        "inputs = inputs.reshape(-1,1)\n",
        "inputs = sc.transform(inputs)\n",
        "X_test = []\n",
        "for i in range(120, 580):\n",
        "    X_test.append(inputs[i-120:i, 0])\n",
        "X_test = np.array(X_test)\n",
        "X_test = np.reshape(X_test, (X_test.shape[0], X_test.shape[1], 1))\n",
        "predicted_stock_price = regressor.predict(X_test)\n",
        "predicted_stock_price = sc.inverse_transform(predicted_stock_price)"
      ],
      "execution_count": 28,
      "outputs": [
        {
          "output_type": "stream",
          "name": "stdout",
          "text": [
            "15/15 [==============================] - 5s 170ms/step\n"
          ]
        }
      ]
    },
    {
      "cell_type": "markdown",
      "metadata": {
        "id": "iFTNs3YHk6FQ"
      },
      "source": [
        "### Visualising the results"
      ]
    },
    {
      "cell_type": "code",
      "metadata": {
        "id": "8OUI8U49k9tH",
        "colab": {
          "base_uri": "https://localhost:8080/",
          "height": 295
        },
        "outputId": "fe265174-152c-4a66-def8-add47b2cab6f"
      },
      "source": [
        "plt.plot(real_stock_price, color = 'red', label = 'Real BTC Price')\n",
        "plt.plot(predicted_stock_price, color = 'blue', label = 'Predicted BTC Price')\n",
        "plt.title('BTC Price Prediction')\n",
        "plt.xlabel('Time')\n",
        "plt.ylabel('BTC Price')\n",
        "plt.legend()\n",
        "plt.show()"
      ],
      "execution_count": 29,
      "outputs": [
        {
          "output_type": "display_data",
          "data": {
            "text/plain": [
              "<Figure size 432x288 with 1 Axes>"
            ],
            "image/png": "[encoded data removed]"
          },
          "metadata": {
            "needs_background": "light"
          }
        }
      ]
    }
  ]
}