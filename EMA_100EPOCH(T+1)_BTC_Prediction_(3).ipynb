{
  "nbformat": 4,
  "nbformat_minor": 0,
  "metadata": {
    "colab": {
      "provenance": []
    },
    "kernelspec": {
      "name": "python3",
      "display_name": "Python 3"
    }
  },
  "cells": [
    {
      "cell_type": "markdown",
      "metadata": {
        "id": "xpAuMVCwfWs8"
      },
      "source": [
        "# Recurrent Neural Network"
      ]
    },
    {
      "cell_type": "markdown",
      "metadata": {
        "id": "nxJfRe4bfYVA"
      },
      "source": [
        "## Part 1 - Data Preprocessing"
      ]
    },
    {
      "cell_type": "markdown",
      "metadata": {
        "id": "ir9zwETrfbrp"
      },
      "source": [
        "### Importing the libraries"
      ]
    },
    {
      "cell_type": "code",
      "metadata": {
        "id": "ZT1f24vHffuf"
      },
      "source": [
        "import numpy as np\n",
        "import matplotlib.pyplot as plt\n",
        "import pandas as pd\n"
      ],
      "execution_count": 1,
      "outputs": []
    },
    {
      "cell_type": "markdown",
      "metadata": {
        "id": "nQ47JAxrgmaL"
      },
      "source": [
        "### Importing the training set"
      ]
    },
    {
      "cell_type": "code",
      "metadata": {
        "id": "1xiv3pJOgqY3"
      },
      "source": [
        "dataset_train = pd.read_csv('BTC_Train.csv')\n",
        "training_set = dataset_train.iloc[:, 5].values #training_set = dataset_train.iloc[:, 1:2].values\n",
        "\n",
        "#https://www.datacamp.com/tutorial/moving-averages-in-pandas\n",
        "dataset_train['EMA5'] = dataset_train.iloc[:,5].ewm(span=5,adjust=False).mean()\n",
        "dataset_train['EMA10'] = dataset_train.iloc[:,5].ewm(span=10,adjust=False).mean()\n",
        "dataset_train['EMA21'] = dataset_train.iloc[:,5].ewm(span=21,adjust=False).mean()\n",
        "dataset_train['EMA50'] = dataset_train.iloc[:,5].ewm(span=50,adjust=False).mean()\n",
        "dataset_train['EMA200'] = dataset_train.iloc[:,5].ewm(span=200,adjust=False).mean()\n",
        "\n",
        "x_train_5MA =   dataset_train['EMA5'].values\n",
        "x_train_10MA =  dataset_train['EMA10'].values\n",
        "x_train_21MA =  dataset_train['EMA21'].values\n",
        "x_train_50MA =  dataset_train['EMA50'].values\n",
        "x_train_200MA = dataset_train['EMA200'].values\n"
      ],
      "execution_count": 2,
      "outputs": []
    },
    {
      "cell_type": "markdown",
      "metadata": {
        "id": "HT8_2UJegtG5"
      },
      "source": [
        "### Feature Scaling"
      ]
    },
    {
      "cell_type": "code",
      "metadata": {
        "id": "OTrF2kR7gx9x"
      },
      "source": [
        "training_set = training_set.reshape(-1,1)\n",
        "x_train_5MA = x_train_5MA.reshape(-1,1)\n",
        "x_train_10MA = x_train_10MA.reshape(-1,1)\n",
        "x_train_21MA = x_train_21MA.reshape(-1,1)\n",
        "x_train_50MA = x_train_50MA.reshape(-1,1)\n",
        "x_train_200MA = x_train_200MA.reshape(-1,1)\n",
        "\n",
        "from sklearn.preprocessing import MinMaxScaler\n",
        "sc = MinMaxScaler(feature_range = (0, 1))\n",
        "training_set_scaled = sc.fit_transform(training_set)\n",
        "\n",
        "sc5 = MinMaxScaler(feature_range = (0, 1))\n",
        "x_train_5MA_scaled = sc5.fit_transform(x_train_5MA)\n",
        "sc10 = MinMaxScaler(feature_range = (0, 1))\n",
        "x_train_10MA_scaled = sc10.fit_transform(x_train_10MA)\n",
        "sc21 = MinMaxScaler(feature_range = (0, 1))\n",
        "x_train_21MA_scaled = sc21.fit_transform(x_train_21MA)\n",
        "sc50 = MinMaxScaler(feature_range = (0, 1))\n",
        "x_train_50MA_scaled = sc50.fit_transform(x_train_50MA)\n",
        "sc200 = MinMaxScaler(feature_range = (0, 1))\n",
        "x_train_200MA_scaled = sc200.fit_transform(x_train_200MA)"
      ],
      "execution_count": 3,
      "outputs": []
    },
    {
      "cell_type": "markdown",
      "metadata": {
        "id": "JyYgYocqhNUg"
      },
      "source": [
        "### Creating a data structure with 60 timesteps and 1 output"
      ]
    },
    {
      "cell_type": "code",
      "metadata": {
        "id": "iofU21B0i6ST"
      },
      "source": [
        "X_train = []\n",
        "Y_train = []\n",
        "\n",
        "\n",
        "for i in range(20,  2449):\n",
        "\n",
        "  X_train_joined = np.concatenate((training_set_scaled[i-20:i],x_train_5MA_scaled[i-20:i],x_train_10MA_scaled[i-20:i], x_train_21MA_scaled[i-20:i], x_train_50MA_scaled[i-20:i], x_train_200MA_scaled[i-20:i]), dtype=None)\n",
        "  X_train.append(X_train_joined)\n",
        "  Y_train.append(training_set_scaled[i, 0])\n",
        "\n",
        "X_train, y_train = np.array(X_train, dtype=object), np.array(Y_train)"
      ],
      "execution_count": 4,
      "outputs": []
    },
    {
      "cell_type": "markdown",
      "metadata": {
        "id": "D8yaN7Zvi95l"
      },
      "source": [
        "### Reshaping"
      ]
    },
    {
      "cell_type": "code",
      "metadata": {
        "id": "FOXqJHmNjBkz"
      },
      "source": [
        "X_train = np.reshape(X_train, (X_train.shape[0], X_train.shape[1], 1))\n",
        "\n",
        "#X_train.shape"
      ],
      "execution_count": 5,
      "outputs": []
    },
    {
      "cell_type": "markdown",
      "metadata": {
        "id": "ZRRSOJeVjEWV"
      },
      "source": [
        "## Part 2 - Building and Training the RNN"
      ]
    },
    {
      "cell_type": "markdown",
      "metadata": {
        "id": "k4XV88JMjHXG"
      },
      "source": [
        "### Importing the Keras libraries and packages"
      ]
    },
    {
      "cell_type": "code",
      "metadata": {
        "id": "9JRnqsxEjKsD"
      },
      "source": [
        "from keras.models import Sequential\n",
        "from keras.layers import Dense\n",
        "from keras.layers import LSTM\n",
        "from keras.layers import Dropout"
      ],
      "execution_count": 6,
      "outputs": []
    },
    {
      "cell_type": "markdown",
      "metadata": {
        "id": "FEIE-1s9jNzC"
      },
      "source": [
        "### Initialising the RNN"
      ]
    },
    {
      "cell_type": "code",
      "metadata": {
        "id": "1338dJ0UjRKH"
      },
      "source": [
        "regressor = Sequential()"
      ],
      "execution_count": 7,
      "outputs": []
    },
    {
      "cell_type": "markdown",
      "metadata": {
        "id": "62eg1OPGjT8z"
      },
      "source": [
        "### Adding the first LSTM layer and some Dropout regularisation"
      ]
    },
    {
      "cell_type": "code",
      "metadata": {
        "id": "2hIinyXUjbVU"
      },
      "source": [
        "regressor.add(LSTM(units = 60, return_sequences = True, input_shape = (X_train.shape[1], 1)))\n",
        "regressor.add(Dropout(0.25))\n",
        "\n",
        "#X_train.shape"
      ],
      "execution_count": 8,
      "outputs": []
    },
    {
      "cell_type": "markdown",
      "metadata": {
        "id": "3XBIYLyOjlMx"
      },
      "source": [
        "### Adding a second LSTM layer and some Dropout regularisation"
      ]
    },
    {
      "cell_type": "code",
      "metadata": {
        "id": "UG7nrVaSjuZ2"
      },
      "source": [
        "regressor.add(LSTM(units = 70, return_sequences = True))\n",
        "regressor.add(Dropout(0.4))"
      ],
      "execution_count": 9,
      "outputs": []
    },
    {
      "cell_type": "markdown",
      "metadata": {
        "id": "Ey3fHVnGj1cu"
      },
      "source": [
        "### Adding a third and fourth LSTM layer and some Dropout regularisation"
      ]
    },
    {
      "cell_type": "code",
      "metadata": {
        "id": "PuNi6PgFj7jO"
      },
      "source": [
        "regressor.add(LSTM(units = 80, return_sequences = True))\n",
        "regressor.add(Dropout(0.4))\n",
        "\n",
        "regressor.add(LSTM(units = 70, return_sequences = True))\n",
        "regressor.add(Dropout(0.4))"
      ],
      "execution_count": 10,
      "outputs": []
    },
    {
      "cell_type": "markdown",
      "metadata": {
        "id": "SYTrtfTmj933"
      },
      "source": [
        "### Adding a fourth LSTM layer and some Dropout regularisation"
      ]
    },
    {
      "cell_type": "code",
      "metadata": {
        "id": "Jp4Ty8fRkBYV"
      },
      "source": [
        "regressor.add(LSTM(units = 60))\n",
        "regressor.add(Dropout(0.25))"
      ],
      "execution_count": 11,
      "outputs": []
    },
    {
      "cell_type": "markdown",
      "metadata": {
        "id": "9ABI6rOIkHhk"
      },
      "source": [
        "### Adding the output layer"
      ]
    },
    {
      "cell_type": "code",
      "metadata": {
        "id": "aM6R1z4WkME8"
      },
      "source": [
        "regressor.add(Dense(units = 1))"
      ],
      "execution_count": 12,
      "outputs": []
    },
    {
      "cell_type": "markdown",
      "metadata": {
        "id": "zLx4K7uUkPSh"
      },
      "source": [
        "### Compiling the RNN"
      ]
    },
    {
      "cell_type": "code",
      "metadata": {
        "id": "XTrhVN-tkbko"
      },
      "source": [
        "regressor.compile(optimizer = 'adam', loss = 'mean_squared_error')"
      ],
      "execution_count": 13,
      "outputs": []
    },
    {
      "cell_type": "markdown",
      "metadata": {
        "id": "-mPhwKGkkebi"
      },
      "source": [
        "### Fitting the RNN to the Training set"
      ]
    },
    {
      "cell_type": "code",
      "metadata": {
        "id": "I06Nkrz5kkb-",
        "colab": {
          "base_uri": "https://localhost:8080/"
        },
        "outputId": "0b95779f-e6b7-43f0-9df8-58e29050af98"
      },
      "source": [
        "X_train = np.asarray(X_train).astype('float32')\n",
        "Y_train = np.asarray(Y_train).astype('float32')\n",
        "\n",
        "regressor.fit(X_train, y_train, epochs = 100, batch_size = 32)"
      ],
      "execution_count": 15,
      "outputs": [
        {
          "output_type": "stream",
          "name": "stdout",
          "text": [
            "Epoch 1/10\n",
            "76/76 [==============================] - 40s 432ms/step - loss: 0.0065\n",
            "Epoch 2/10\n",
            "76/76 [==============================] - 26s 348ms/step - loss: 0.0028\n",
            "Epoch 3/10\n",
            "76/76 [==============================] - 26s 347ms/step - loss: 0.0024\n",
            "Epoch 4/10\n",
            "76/76 [==============================] - 27s 353ms/step - loss: 0.0034\n",
            "Epoch 5/10\n",
            "76/76 [==============================] - 27s 360ms/step - loss: 0.0020\n",
            "Epoch 6/10\n",
            "76/76 [==============================] - 26s 345ms/step - loss: 0.0024\n",
            "Epoch 7/10\n",
            "76/76 [==============================] - 28s 363ms/step - loss: 0.0021\n",
            "Epoch 8/10\n",
            "76/76 [==============================] - 26s 342ms/step - loss: 0.0022\n",
            "Epoch 9/10\n",
            "76/76 [==============================] - 26s 348ms/step - loss: 0.0020\n",
            "Epoch 10/10\n",
            "76/76 [==============================] - 26s 341ms/step - loss: 0.0020\n"
          ]
        },
        {
          "output_type": "execute_result",
          "data": {
            "text/plain": [
              "<keras.callbacks.History at 0x7fd6cb6c7040>"
            ]
          },
          "metadata": {},
          "execution_count": 15
        }
      ]
    },
    {
      "cell_type": "markdown",
      "metadata": {
        "id": "4hRau_lIkrE8"
      },
      "source": [
        "## Part 3 - Making the predictions and visualising the results"
      ]
    },
    {
      "cell_type": "markdown",
      "metadata": {
        "id": "SgJO6qEDksxD"
      },
      "source": [
        "### Getting the real stock price of 2017"
      ]
    },
    {
      "cell_type": "code",
      "metadata": {
        "id": "FmBT2zqukxTz"
      },
      "source": [
        "dataset_test = pd.read_csv('BTC_Test.csv', engine='python')\n",
        "real_stock_price = dataset_test.iloc[:, 5].values"
      ],
      "execution_count": 16,
      "outputs": []
    },
    {
      "cell_type": "markdown",
      "metadata": {
        "id": "GrvrLblxkz42"
      },
      "source": [
        "### Getting the predicted stock price of 2017"
      ]
    },
    {
      "cell_type": "code",
      "metadata": {
        "id": "emikTvUpk3Ck",
        "colab": {
          "base_uri": "https://localhost:8080/"
        },
        "outputId": "edfa46b9-40be-4e33-d8c2-a4464a0f4fdf"
      },
      "source": [
        "dataset_total = pd.concat((dataset_train['Adj Close'], dataset_test['Adj Close']), axis = 0)\n",
        "dataset_frame_total = dataset_total.to_frame().T\n",
        "dataset_frame_total = dataset_frame_total.T\n",
        "\n",
        "\n",
        "dataset_frame_total['EMA5'] = dataset_frame_total.iloc[:, 0].ewm(span=5,adjust=False).mean()\n",
        "dataset_frame_total['EMA10'] = dataset_frame_total.iloc[:, 0].ewm(span=10,adjust=False).mean()\n",
        "dataset_frame_total['EMA21'] = dataset_frame_total.iloc[:, 0].ewm(span=21,adjust=False).mean()\n",
        "dataset_frame_total['EMA50'] = dataset_frame_total.iloc[:, 0].ewm(span=50,adjust=False).mean()\n",
        "dataset_frame_total['EMA200'] = dataset_frame_total.iloc[:, 0].ewm(span=200,adjust=False).mean()\n",
        "\n",
        "inputs = dataset_total[len(dataset_total) - len(dataset_test) - 20:].values\n",
        "inputs = inputs.reshape(-1,1)\n",
        "inputs = sc.transform(inputs)\n",
        "\n",
        "x_test_5MA =  dataset_frame_total['EMA5'][len(dataset_frame_total) - len(dataset_test) - 20:].values\n",
        "x_test_5MA = x_test_5MA.reshape(-1,1)\n",
        "x_test_5MA = sc5.transform(x_test_5MA)\n",
        "\n",
        "\n",
        "x_test_10MA =  dataset_frame_total['EMA10'][len(dataset_frame_total) - len(dataset_test) - 20:].values\n",
        "x_test_10MA = x_test_10MA.reshape(-1,1)\n",
        "x_test_10MA = sc10.transform(x_test_10MA)\n",
        "\n",
        "x_test_21MA =  dataset_frame_total['EMA21'][len(dataset_frame_total) - len(dataset_test) - 20:].values\n",
        "x_test_21MA = x_test_21MA.reshape(-1,1)\n",
        "x_test_21MA = sc21.transform(x_test_21MA)\n",
        "\n",
        "x_test_50MA =  dataset_frame_total['EMA50'][len(dataset_frame_total) - len(dataset_test) - 20:].values\n",
        "x_test_50MA = x_test_50MA.reshape(-1,1)\n",
        "x_test_50MA = sc50.transform(x_test_50MA)\n",
        "\n",
        "x_test_200MA =  dataset_frame_total['EMA200'][len(dataset_frame_total) - len(dataset_test) - 20:].values\n",
        "x_test_200MA = x_test_200MA.reshape(-1,1)\n",
        "x_test_200MA = sc200.transform(x_test_200MA)\n",
        "\n",
        "\n",
        "X_test = []\n",
        "for i in range(20, 599):\n",
        "    X_test_joined = np.concatenate((inputs[i-20:i],x_test_5MA[i-20:i],x_test_10MA[i-20:i], x_test_21MA[i-20:i], x_test_50MA[i-20:i], x_test_200MA[i-20:i]), dtype=None)\n",
        "    X_test.append(X_test_joined)\n",
        "\n",
        "X_test = np.array(X_test, dtype=object) #List to Array\n",
        "\n",
        "#X_test = np.stack(X_test)\n",
        "\n",
        "\n",
        "X_test = np.reshape(X_test, (X_test.shape[0], X_test.shape[1], 1))\n",
        "X_test = np.asarray(X_test).astype('float32')\n",
        "\n",
        "predicted_stock_price = regressor.predict(X_test)\n",
        "predicted_stock_price = sc.inverse_transform(predicted_stock_price)"
      ],
      "execution_count": 17,
      "outputs": [
        {
          "output_type": "stream",
          "name": "stdout",
          "text": [
            "19/19 [==============================] - 5s 106ms/step\n"
          ]
        }
      ]
    },
    {
      "cell_type": "markdown",
      "metadata": {
        "id": "iFTNs3YHk6FQ"
      },
      "source": [
        "### Visualising the results"
      ]
    },
    {
      "cell_type": "code",
      "metadata": {
        "id": "8OUI8U49k9tH",
        "colab": {
          "base_uri": "https://localhost:8080/",
          "height": 295
        },
        "outputId": "e4afa469-a47f-4d6f-84b9-10af4d887982"
      },
      "source": [
        "plt.plot(real_stock_price, color = 'red', label = 'Real BTC Price')\n",
        "plt.plot(predicted_stock_price, color = 'blue', label = 'Predicted BTC Price')\n",
        "plt.title('BTC Price Prediction')\n",
        "plt.xlabel('Time')\n",
        "plt.ylabel('BTC Price')\n",
        "plt.legend()\n",
        "plt.show()"
      ],
      "execution_count": 18,
      "outputs": [
        {
          "output_type": "display_data",
          "data": {
            "text/plain": [
              "<Figure size 432x288 with 1 Axes>"
            ],
            "image/png": "[encoded data removed]"
          },
          "metadata": {
            "needs_background": "light"
          }
        }
      ]
    }
  ]
}