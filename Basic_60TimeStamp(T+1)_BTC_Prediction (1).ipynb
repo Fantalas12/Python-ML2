{
  "nbformat": 4,
  "nbformat_minor": 0,
  "metadata": {
    "colab": {
      "provenance": []
    },
    "kernelspec": {
      "name": "python3",
      "display_name": "Python 3"
    }
  },
  "cells": [
    {
      "cell_type": "markdown",
      "metadata": {
        "id": "xpAuMVCwfWs8"
      },
      "source": [
        "# Recurrent Neural Network"
      ]
    },
    {
      "cell_type": "markdown",
      "metadata": {
        "id": "nxJfRe4bfYVA"
      },
      "source": [
        "## Part 1 - Data Preprocessing"
      ]
    },
    {
      "cell_type": "markdown",
      "metadata": {
        "id": "ir9zwETrfbrp"
      },
      "source": [
        "### Importing the libraries"
      ]
    },
    {
      "cell_type": "code",
      "metadata": {
        "id": "ZT1f24vHffuf"
      },
      "source": [
        "import numpy as np\n",
        "import matplotlib.pyplot as plt\n",
        "import pandas as pd"
      ],
      "execution_count": 1,
      "outputs": []
    },
    {
      "cell_type": "markdown",
      "metadata": {
        "id": "nQ47JAxrgmaL"
      },
      "source": [
        "### Importing the training set"
      ]
    },
    {
      "cell_type": "code",
      "metadata": {
        "id": "1xiv3pJOgqY3"
      },
      "source": [
        "dataset_train = pd.read_csv('BTC_Train.csv')\n",
        "training_set = dataset_train.iloc[:, 1:2].values"
      ],
      "execution_count": 2,
      "outputs": []
    },
    {
      "cell_type": "markdown",
      "metadata": {
        "id": "HT8_2UJegtG5"
      },
      "source": [
        "### Feature Scaling"
      ]
    },
    {
      "cell_type": "code",
      "metadata": {
        "id": "OTrF2kR7gx9x"
      },
      "source": [
        "from sklearn.preprocessing import MinMaxScaler\n",
        "sc = MinMaxScaler(feature_range = (0, 1))\n",
        "training_set_scaled = sc.fit_transform(training_set)"
      ],
      "execution_count": 3,
      "outputs": []
    },
    {
      "cell_type": "markdown",
      "metadata": {
        "id": "JyYgYocqhNUg"
      },
      "source": [
        "### Creating a data structure with 60 timesteps and 1 output"
      ]
    },
    {
      "cell_type": "code",
      "metadata": {
        "id": "iofU21B0i6ST"
      },
      "source": [
        "X_train = []\n",
        "y_train = []\n",
        "for i in range(60, 2449):\n",
        "    X_train.append(training_set_scaled[i-60:i, 0])\n",
        "    y_train.append(training_set_scaled[i, 0])\n",
        "X_train, y_train = np.array(X_train), np.array(y_train)"
      ],
      "execution_count": 5,
      "outputs": []
    },
    {
      "cell_type": "markdown",
      "metadata": {
        "id": "D8yaN7Zvi95l"
      },
      "source": [
        "### Reshaping"
      ]
    },
    {
      "cell_type": "code",
      "metadata": {
        "id": "FOXqJHmNjBkz"
      },
      "source": [
        "X_train = np.reshape(X_train, (X_train.shape[0], X_train.shape[1], 1))"
      ],
      "execution_count": 6,
      "outputs": []
    },
    {
      "cell_type": "markdown",
      "metadata": {
        "id": "ZRRSOJeVjEWV"
      },
      "source": [
        "## Part 2 - Building and Training the RNN"
      ]
    },
    {
      "cell_type": "markdown",
      "metadata": {
        "id": "k4XV88JMjHXG"
      },
      "source": [
        "### Importing the Keras libraries and packages"
      ]
    },
    {
      "cell_type": "code",
      "metadata": {
        "id": "9JRnqsxEjKsD"
      },
      "source": [
        "from keras.models import Sequential\n",
        "from keras.layers import Dense\n",
        "from keras.layers import LSTM\n",
        "from keras.layers import Dropout"
      ],
      "execution_count": 7,
      "outputs": []
    },
    {
      "cell_type": "markdown",
      "metadata": {
        "id": "FEIE-1s9jNzC"
      },
      "source": [
        "### Initialising the RNN"
      ]
    },
    {
      "cell_type": "code",
      "metadata": {
        "id": "1338dJ0UjRKH"
      },
      "source": [
        "regressor = Sequential()"
      ],
      "execution_count": 19,
      "outputs": []
    },
    {
      "cell_type": "markdown",
      "metadata": {
        "id": "62eg1OPGjT8z"
      },
      "source": [
        "### Adding the first LSTM layer and some Dropout regularisation"
      ]
    },
    {
      "cell_type": "code",
      "metadata": {
        "id": "2hIinyXUjbVU"
      },
      "source": [
        "regressor.add(LSTM(units = 60, return_sequences = True, input_shape = (X_train.shape[1], 1)))\n",
        "regressor.add(Dropout(0.25))"
      ],
      "execution_count": 20,
      "outputs": []
    },
    {
      "cell_type": "markdown",
      "metadata": {
        "id": "3XBIYLyOjlMx"
      },
      "source": [
        "### Adding a second LSTM layer and some Dropout regularisation"
      ]
    },
    {
      "cell_type": "code",
      "metadata": {
        "id": "UG7nrVaSjuZ2"
      },
      "source": [
        "regressor.add(LSTM(units = 70, return_sequences = True))\n",
        "regressor.add(Dropout(0.25))"
      ],
      "execution_count": 21,
      "outputs": []
    },
    {
      "cell_type": "markdown",
      "metadata": {
        "id": "Ey3fHVnGj1cu"
      },
      "source": [
        "### Adding a third LSTM layer and some Dropout regularisation"
      ]
    },
    {
      "cell_type": "code",
      "metadata": {
        "id": "PuNi6PgFj7jO"
      },
      "source": [
        "regressor.add(LSTM(units = 80, return_sequences = True))\n",
        "regressor.add(Dropout(0.25))\n",
        "\n",
        "regressor.add(LSTM(units = 70, return_sequences = True))\n",
        "regressor.add(Dropout(0.25))"
      ],
      "execution_count": 22,
      "outputs": []
    },
    {
      "cell_type": "markdown",
      "metadata": {
        "id": "SYTrtfTmj933"
      },
      "source": [
        "### Adding a fourth LSTM layer and some Dropout regularisation"
      ]
    },
    {
      "cell_type": "code",
      "metadata": {
        "id": "Jp4Ty8fRkBYV"
      },
      "source": [
        "regressor.add(LSTM(units = 60))\n",
        "regressor.add(Dropout(0.25))"
      ],
      "execution_count": 23,
      "outputs": []
    },
    {
      "cell_type": "markdown",
      "metadata": {
        "id": "9ABI6rOIkHhk"
      },
      "source": [
        "### Adding the output layer"
      ]
    },
    {
      "cell_type": "code",
      "metadata": {
        "id": "aM6R1z4WkME8"
      },
      "source": [
        "regressor.add(Dense(units = 1))"
      ],
      "execution_count": 24,
      "outputs": []
    },
    {
      "cell_type": "markdown",
      "metadata": {
        "id": "zLx4K7uUkPSh"
      },
      "source": [
        "### Compiling the RNN"
      ]
    },
    {
      "cell_type": "code",
      "metadata": {
        "id": "XTrhVN-tkbko"
      },
      "source": [
        "regressor.compile(optimizer = 'adam', loss = 'mean_squared_error')"
      ],
      "execution_count": 25,
      "outputs": []
    },
    {
      "cell_type": "markdown",
      "metadata": {
        "id": "-mPhwKGkkebi"
      },
      "source": [
        "### Fitting the RNN to the Training set"
      ]
    },
    {
      "cell_type": "code",
      "metadata": {
        "id": "I06Nkrz5kkb-",
        "colab": {
          "base_uri": "https://localhost:8080/"
        },
        "outputId": "2a25cc76-0800-45d0-ded7-bdb36666074c"
      },
      "source": [
        "regressor.fit(X_train, y_train, epochs = 100, batch_size = 32)"
      ],
      "execution_count": 26,
      "outputs": [
        {
          "output_type": "stream",
          "name": "stdout",
          "text": [
            "Epoch 1/100\n",
            "75/75 [==============================] - 22s 175ms/step - loss: 0.0047\n",
            "Epoch 2/100\n",
            "75/75 [==============================] - 13s 177ms/step - loss: 0.0026\n",
            "Epoch 3/100\n",
            "75/75 [==============================] - 13s 176ms/step - loss: 0.0023\n",
            "Epoch 4/100\n",
            "75/75 [==============================] - 13s 174ms/step - loss: 0.0019\n",
            "Epoch 5/100\n",
            "75/75 [==============================] - 13s 176ms/step - loss: 0.0019\n",
            "Epoch 6/100\n",
            "75/75 [==============================] - 13s 174ms/step - loss: 0.0014\n",
            "Epoch 7/100\n",
            "75/75 [==============================] - 13s 173ms/step - loss: 0.0017\n",
            "Epoch 8/100\n",
            "75/75 [==============================] - 13s 173ms/step - loss: 0.0018\n",
            "Epoch 9/100\n",
            "75/75 [==============================] - 13s 176ms/step - loss: 0.0020\n",
            "Epoch 10/100\n",
            "75/75 [==============================] - 13s 175ms/step - loss: 0.0013\n",
            "Epoch 11/100\n",
            "75/75 [==============================] - 13s 174ms/step - loss: 0.0012\n",
            "Epoch 12/100\n",
            "75/75 [==============================] - 13s 176ms/step - loss: 0.0012\n",
            "Epoch 13/100\n",
            "75/75 [==============================] - 13s 175ms/step - loss: 0.0017\n",
            "Epoch 14/100\n",
            "75/75 [==============================] - 13s 174ms/step - loss: 0.0010\n",
            "Epoch 15/100\n",
            "75/75 [==============================] - 13s 177ms/step - loss: 0.0011\n",
            "Epoch 16/100\n",
            "75/75 [==============================] - 13s 174ms/step - loss: 9.5053e-04\n",
            "Epoch 17/100\n",
            "75/75 [==============================] - 13s 175ms/step - loss: 9.4429e-04\n",
            "Epoch 18/100\n",
            "75/75 [==============================] - 13s 175ms/step - loss: 0.0011\n",
            "Epoch 19/100\n",
            "75/75 [==============================] - 13s 176ms/step - loss: 9.5743e-04\n",
            "Epoch 20/100\n",
            "75/75 [==============================] - 13s 176ms/step - loss: 9.9378e-04\n",
            "Epoch 21/100\n",
            "75/75 [==============================] - 13s 176ms/step - loss: 8.4603e-04\n",
            "Epoch 22/100\n",
            "75/75 [==============================] - 13s 175ms/step - loss: 8.7429e-04\n",
            "Epoch 23/100\n",
            "75/75 [==============================] - 13s 177ms/step - loss: 8.9227e-04\n",
            "Epoch 24/100\n",
            "75/75 [==============================] - 13s 178ms/step - loss: 8.8040e-04\n",
            "Epoch 25/100\n",
            "75/75 [==============================] - 13s 177ms/step - loss: 8.7239e-04\n",
            "Epoch 26/100\n",
            "75/75 [==============================] - 13s 177ms/step - loss: 7.6596e-04\n",
            "Epoch 27/100\n",
            "75/75 [==============================] - 13s 176ms/step - loss: 8.1493e-04\n",
            "Epoch 28/100\n",
            "75/75 [==============================] - 13s 176ms/step - loss: 7.7925e-04\n",
            "Epoch 29/100\n",
            "75/75 [==============================] - 13s 175ms/step - loss: 7.6253e-04\n",
            "Epoch 30/100\n",
            "75/75 [==============================] - 13s 176ms/step - loss: 7.0168e-04\n",
            "Epoch 31/100\n",
            "75/75 [==============================] - 13s 178ms/step - loss: 8.9843e-04\n",
            "Epoch 32/100\n",
            "75/75 [==============================] - 13s 175ms/step - loss: 7.3651e-04\n",
            "Epoch 33/100\n",
            "75/75 [==============================] - 13s 176ms/step - loss: 7.0903e-04\n",
            "Epoch 34/100\n",
            "75/75 [==============================] - 13s 172ms/step - loss: 8.3358e-04\n",
            "Epoch 35/100\n",
            "75/75 [==============================] - 13s 174ms/step - loss: 7.5184e-04\n",
            "Epoch 36/100\n",
            "75/75 [==============================] - 13s 175ms/step - loss: 6.6723e-04\n",
            "Epoch 37/100\n",
            "75/75 [==============================] - 13s 176ms/step - loss: 7.0359e-04\n",
            "Epoch 38/100\n",
            "75/75 [==============================] - 13s 176ms/step - loss: 8.0112e-04\n",
            "Epoch 39/100\n",
            "75/75 [==============================] - 13s 178ms/step - loss: 7.0834e-04\n",
            "Epoch 40/100\n",
            "75/75 [==============================] - 13s 177ms/step - loss: 6.8101e-04\n",
            "Epoch 41/100\n",
            "75/75 [==============================] - 13s 176ms/step - loss: 7.4811e-04\n",
            "Epoch 42/100\n",
            "75/75 [==============================] - 13s 178ms/step - loss: 6.4192e-04\n",
            "Epoch 43/100\n",
            "75/75 [==============================] - 13s 175ms/step - loss: 7.1063e-04\n",
            "Epoch 44/100\n",
            "75/75 [==============================] - 13s 179ms/step - loss: 6.8581e-04\n",
            "Epoch 45/100\n",
            "75/75 [==============================] - 13s 176ms/step - loss: 9.4965e-04\n",
            "Epoch 46/100\n",
            "75/75 [==============================] - 13s 177ms/step - loss: 9.5349e-04\n",
            "Epoch 47/100\n",
            "75/75 [==============================] - 13s 179ms/step - loss: 8.3760e-04\n",
            "Epoch 48/100\n",
            "75/75 [==============================] - 13s 176ms/step - loss: 0.0012\n",
            "Epoch 49/100\n",
            "75/75 [==============================] - 13s 178ms/step - loss: 8.2261e-04\n",
            "Epoch 50/100\n",
            "75/75 [==============================] - 13s 177ms/step - loss: 7.9466e-04\n",
            "Epoch 51/100\n",
            "75/75 [==============================] - 13s 178ms/step - loss: 6.4562e-04\n",
            "Epoch 52/100\n",
            "75/75 [==============================] - 13s 179ms/step - loss: 6.3012e-04\n",
            "Epoch 53/100\n",
            "75/75 [==============================] - 13s 176ms/step - loss: 7.2311e-04\n",
            "Epoch 54/100\n",
            "75/75 [==============================] - 13s 177ms/step - loss: 6.9088e-04\n",
            "Epoch 55/100\n",
            "75/75 [==============================] - 13s 176ms/step - loss: 7.7685e-04\n",
            "Epoch 56/100\n",
            "75/75 [==============================] - 13s 177ms/step - loss: 4.6468e-04\n",
            "Epoch 57/100\n",
            "75/75 [==============================] - 13s 176ms/step - loss: 6.7374e-04\n",
            "Epoch 58/100\n",
            "75/75 [==============================] - 13s 176ms/step - loss: 5.8580e-04\n",
            "Epoch 59/100\n",
            "75/75 [==============================] - 13s 176ms/step - loss: 6.2172e-04\n",
            "Epoch 60/100\n",
            "75/75 [==============================] - 13s 177ms/step - loss: 6.4591e-04\n",
            "Epoch 61/100\n",
            "75/75 [==============================] - 13s 177ms/step - loss: 4.9914e-04\n",
            "Epoch 62/100\n",
            "75/75 [==============================] - 13s 175ms/step - loss: 6.2831e-04\n",
            "Epoch 63/100\n",
            "75/75 [==============================] - 13s 177ms/step - loss: 6.7423e-04\n",
            "Epoch 64/100\n",
            "75/75 [==============================] - 13s 175ms/step - loss: 6.3476e-04\n",
            "Epoch 65/100\n",
            "75/75 [==============================] - 13s 176ms/step - loss: 6.2912e-04\n",
            "Epoch 66/100\n",
            "75/75 [==============================] - 13s 176ms/step - loss: 7.1874e-04\n",
            "Epoch 67/100\n",
            "75/75 [==============================] - 13s 178ms/step - loss: 6.0803e-04\n",
            "Epoch 68/100\n",
            "75/75 [==============================] - 13s 175ms/step - loss: 6.1641e-04\n",
            "Epoch 69/100\n",
            "75/75 [==============================] - 13s 175ms/step - loss: 6.9492e-04\n",
            "Epoch 70/100\n",
            "75/75 [==============================] - 13s 178ms/step - loss: 5.7341e-04\n",
            "Epoch 71/100\n",
            "75/75 [==============================] - 13s 176ms/step - loss: 6.2155e-04\n",
            "Epoch 72/100\n",
            "75/75 [==============================] - 13s 176ms/step - loss: 5.6579e-04\n",
            "Epoch 73/100\n",
            "75/75 [==============================] - 13s 177ms/step - loss: 6.2038e-04\n",
            "Epoch 74/100\n",
            "75/75 [==============================] - 13s 176ms/step - loss: 6.8081e-04\n",
            "Epoch 75/100\n",
            "75/75 [==============================] - 13s 177ms/step - loss: 5.2297e-04\n",
            "Epoch 76/100\n",
            "75/75 [==============================] - 13s 177ms/step - loss: 6.6248e-04\n",
            "Epoch 77/100\n",
            "75/75 [==============================] - 13s 176ms/step - loss: 5.7752e-04\n",
            "Epoch 78/100\n",
            "75/75 [==============================] - 13s 175ms/step - loss: 4.1549e-04\n",
            "Epoch 79/100\n",
            "75/75 [==============================] - 13s 176ms/step - loss: 6.2405e-04\n",
            "Epoch 80/100\n",
            "75/75 [==============================] - 13s 175ms/step - loss: 5.8896e-04\n",
            "Epoch 81/100\n",
            "75/75 [==============================] - 13s 175ms/step - loss: 5.6520e-04\n",
            "Epoch 82/100\n",
            "75/75 [==============================] - 13s 176ms/step - loss: 5.7123e-04\n",
            "Epoch 83/100\n",
            "75/75 [==============================] - 13s 175ms/step - loss: 5.7189e-04\n",
            "Epoch 84/100\n",
            "75/75 [==============================] - 13s 174ms/step - loss: 5.8960e-04\n",
            "Epoch 85/100\n",
            "75/75 [==============================] - 13s 176ms/step - loss: 5.7528e-04\n",
            "Epoch 86/100\n",
            "75/75 [==============================] - 13s 177ms/step - loss: 5.7393e-04\n",
            "Epoch 87/100\n",
            "75/75 [==============================] - 13s 175ms/step - loss: 6.3587e-04\n",
            "Epoch 88/100\n",
            "75/75 [==============================] - 13s 177ms/step - loss: 7.3829e-04\n",
            "Epoch 89/100\n",
            "75/75 [==============================] - 13s 177ms/step - loss: 5.7628e-04\n",
            "Epoch 90/100\n",
            "75/75 [==============================] - 13s 174ms/step - loss: 7.1264e-04\n",
            "Epoch 91/100\n",
            "75/75 [==============================] - 13s 176ms/step - loss: 5.5271e-04\n",
            "Epoch 92/100\n",
            "75/75 [==============================] - 13s 177ms/step - loss: 4.5529e-04\n",
            "Epoch 93/100\n",
            "75/75 [==============================] - 13s 178ms/step - loss: 5.2748e-04\n",
            "Epoch 94/100\n",
            "75/75 [==============================] - 13s 178ms/step - loss: 5.6618e-04\n",
            "Epoch 95/100\n",
            "75/75 [==============================] - 13s 176ms/step - loss: 6.8515e-04\n",
            "Epoch 96/100\n",
            "75/75 [==============================] - 13s 176ms/step - loss: 5.9118e-04\n",
            "Epoch 97/100\n",
            "75/75 [==============================] - 13s 176ms/step - loss: 5.1346e-04\n",
            "Epoch 98/100\n",
            "75/75 [==============================] - 13s 176ms/step - loss: 5.1634e-04\n",
            "Epoch 99/100\n",
            "75/75 [==============================] - 13s 176ms/step - loss: 5.7204e-04\n",
            "Epoch 100/100\n",
            "75/75 [==============================] - 13s 174ms/step - loss: 6.4185e-04\n"
          ]
        },
        {
          "output_type": "execute_result",
          "data": {
            "text/plain": [
              "<keras.callbacks.History at 0x7fa333feae20>"
            ]
          },
          "metadata": {},
          "execution_count": 26
        }
      ]
    },
    {
      "cell_type": "markdown",
      "metadata": {
        "id": "4hRau_lIkrE8"
      },
      "source": [
        "## Part 3 - Making the predictions and visualising the results"
      ]
    },
    {
      "cell_type": "markdown",
      "metadata": {
        "id": "SgJO6qEDksxD"
      },
      "source": [
        "### Getting the real stock price of 2017"
      ]
    },
    {
      "cell_type": "code",
      "metadata": {
        "id": "FmBT2zqukxTz"
      },
      "source": [
        "dataset_test = pd.read_csv('BTC_Test.csv', engine='python')\n",
        "real_stock_price = dataset_test.iloc[:, 1:2].values"
      ],
      "execution_count": 27,
      "outputs": []
    },
    {
      "cell_type": "markdown",
      "metadata": {
        "id": "GrvrLblxkz42"
      },
      "source": [
        "### Getting the predicted stock price of 2017"
      ]
    },
    {
      "cell_type": "code",
      "metadata": {
        "id": "emikTvUpk3Ck",
        "colab": {
          "base_uri": "https://localhost:8080/"
        },
        "outputId": "62669d4a-13e8-40b9-d251-080282a94ae8"
      },
      "source": [
        "dataset_total = pd.concat((dataset_train['Open'], dataset_test['Open']), axis = 0)\n",
        "inputs = dataset_total[len(dataset_total) - len(dataset_test) - 60:].values\n",
        "inputs = inputs.reshape(-1,1)\n",
        "inputs = sc.transform(inputs)\n",
        "X_test = []\n",
        "for i in range(60, 580):\n",
        "    X_test.append(inputs[i-60:i, 0])\n",
        "X_test = np.array(X_test)\n",
        "X_test = np.reshape(X_test, (X_test.shape[0], X_test.shape[1], 1))\n",
        "predicted_stock_price = regressor.predict(X_test)\n",
        "predicted_stock_price = sc.inverse_transform(predicted_stock_price)"
      ],
      "execution_count": 28,
      "outputs": [
        {
          "output_type": "stream",
          "name": "stdout",
          "text": [
            "17/17 [==============================] - 3s 47ms/step\n"
          ]
        }
      ]
    },
    {
      "cell_type": "markdown",
      "metadata": {
        "id": "iFTNs3YHk6FQ"
      },
      "source": [
        "### Visualising the results"
      ]
    },
    {
      "cell_type": "code",
      "metadata": {
        "id": "8OUI8U49k9tH",
        "colab": {
          "base_uri": "https://localhost:8080/",
          "height": 295
        },
        "outputId": "dae2f71a-8846-48fc-8c48-27b9a39bced6"
      },
      "source": [
        "plt.plot(real_stock_price, color = 'red', label = 'Real BTC Price')\n",
        "plt.plot(predicted_stock_price, color = 'blue', label = 'Predicted BTC Price')\n",
        "plt.title('BTC Price Prediction')\n",
        "plt.xlabel('Time')\n",
        "plt.ylabel('BTC Price')\n",
        "plt.legend()\n",
        "plt.show()"
      ],
      "execution_count": 29,
      "outputs": [
        {
          "output_type": "display_data",
          "data": {
            "text/plain": [
              "<Figure size 432x288 with 1 Axes>"
            ],
            "image/png": "[encoded data removed]"
          },
          "metadata": {
            "needs_background": "light"
          }
        }
      ]
    }
  ]
}