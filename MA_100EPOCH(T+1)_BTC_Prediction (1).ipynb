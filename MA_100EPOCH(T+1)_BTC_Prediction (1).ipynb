{
  "nbformat": 4,
  "nbformat_minor": 0,
  "metadata": {
    "colab": {
      "provenance": []
    },
    "kernelspec": {
      "name": "python3",
      "display_name": "Python 3"
    }
  },
  "cells": [
    {
      "cell_type": "markdown",
      "metadata": {
        "id": "xpAuMVCwfWs8"
      },
      "source": [
        "# Recurrent Neural Network"
      ]
    },
    {
      "cell_type": "markdown",
      "metadata": {
        "id": "nxJfRe4bfYVA"
      },
      "source": [
        "## Part 1 - Data Preprocessing"
      ]
    },
    {
      "cell_type": "markdown",
      "metadata": {
        "id": "ir9zwETrfbrp"
      },
      "source": [
        "### Importing the libraries"
      ]
    },
    {
      "cell_type": "code",
      "metadata": {
        "id": "ZT1f24vHffuf"
      },
      "source": [
        "import numpy as np\n",
        "import matplotlib.pyplot as plt\n",
        "import pandas as pd\n",
        "\n",
        "def moving_average(x, w):\n",
        "    return np.convolve(x, np.ones(w), 'valid') / w"
      ],
      "execution_count": 1,
      "outputs": []
    },
    {
      "cell_type": "markdown",
      "metadata": {
        "id": "nQ47JAxrgmaL"
      },
      "source": [
        "### Importing the training set"
      ]
    },
    {
      "cell_type": "code",
      "metadata": {
        "id": "1xiv3pJOgqY3"
      },
      "source": [
        "dataset_train = pd.read_csv('BTC_Train.csv')\n",
        "training_set = dataset_train.iloc[:, 1:2].values"
      ],
      "execution_count": 2,
      "outputs": []
    },
    {
      "cell_type": "markdown",
      "metadata": {
        "id": "HT8_2UJegtG5"
      },
      "source": [
        "### Feature Scaling"
      ]
    },
    {
      "cell_type": "code",
      "metadata": {
        "id": "OTrF2kR7gx9x"
      },
      "source": [
        "from sklearn.preprocessing import MinMaxScaler\n",
        "sc = MinMaxScaler(feature_range = (0, 1))\n",
        "training_set_scaled = sc.fit_transform(training_set)"
      ],
      "execution_count": 3,
      "outputs": []
    },
    {
      "cell_type": "markdown",
      "metadata": {
        "id": "JyYgYocqhNUg"
      },
      "source": [
        "### Creating a data structure with 60 timesteps and 1 output"
      ]
    },
    {
      "cell_type": "code",
      "metadata": {
        "id": "iofU21B0i6ST",
        "colab": {
          "base_uri": "https://localhost:8080/"
        },
        "outputId": "58b13b13-b2ec-4747-9ba9-c46792a1014c"
      },
      "source": [
        "x_train_5MA =  moving_average(training_set_scaled[195:,0],5) #shape: (1059,)\n",
        "x_train_10MA =  moving_average(training_set_scaled[190:,0],10)\n",
        "x_train_21MA =  moving_average(training_set_scaled[179:,0],21)\n",
        "x_train_50MA =  moving_average(training_set_scaled[150:,0],50)\n",
        "x_train_200MA = moving_average(training_set_scaled[:,0],200)\n",
        "\n",
        "\n",
        "X_train = []\n",
        "Y_train = []\n",
        "\n",
        "\n",
        "for i in range(20, 2249): # 1258 (-198)\n",
        "  # X_train_joined = np.concatenate((training_set_scaled[i-20:i,0],x_train_5MA[i-20:i],x_train_10MA[i-20:i], x_train_21MA[i-20:i], x_train_50MA[i-20:i], x_train_200MA[i-20:i]))\n",
        "  # print(X_train_joined.shape) \n",
        "\n",
        "  X_train_joined = np.concatenate((training_set_scaled[i-20:i,0],x_train_5MA[i-20:i],x_train_10MA[i-20:i], x_train_21MA[i-20:i], x_train_50MA[i-20:i], x_train_200MA[i-20:i]), dtype=None)\n",
        "  X_train.append(X_train_joined)\n",
        "  Y_train.append(training_set_scaled[i, 0])\n",
        "\n",
        "#print(type(X_train))\n",
        "X_train, y_train = np.array(X_train, dtype=object), np.array(Y_train)\n",
        "print(X_train.shape)"
      ],
      "execution_count": 4,
      "outputs": [
        {
          "output_type": "stream",
          "name": "stdout",
          "text": [
            "(2229, 120)\n"
          ]
        }
      ]
    },
    {
      "cell_type": "markdown",
      "metadata": {
        "id": "D8yaN7Zvi95l"
      },
      "source": [
        "### Reshaping"
      ]
    },
    {
      "cell_type": "code",
      "metadata": {
        "id": "FOXqJHmNjBkz"
      },
      "source": [
        "X_train = np.reshape(X_train, (X_train.shape[0], X_train.shape[1], 1))"
      ],
      "execution_count": 5,
      "outputs": []
    },
    {
      "cell_type": "markdown",
      "metadata": {
        "id": "ZRRSOJeVjEWV"
      },
      "source": [
        "## Part 2 - Building and Training the RNN"
      ]
    },
    {
      "cell_type": "markdown",
      "metadata": {
        "id": "k4XV88JMjHXG"
      },
      "source": [
        "### Importing the Keras libraries and packages"
      ]
    },
    {
      "cell_type": "code",
      "metadata": {
        "id": "9JRnqsxEjKsD"
      },
      "source": [
        "from keras.models import Sequential\n",
        "from keras.layers import Dense\n",
        "from keras.layers import LSTM\n",
        "from keras.layers import Dropout"
      ],
      "execution_count": 6,
      "outputs": []
    },
    {
      "cell_type": "markdown",
      "metadata": {
        "id": "FEIE-1s9jNzC"
      },
      "source": [
        "### Initialising the RNN"
      ]
    },
    {
      "cell_type": "code",
      "metadata": {
        "id": "1338dJ0UjRKH"
      },
      "source": [
        "regressor = Sequential()"
      ],
      "execution_count": 7,
      "outputs": []
    },
    {
      "cell_type": "markdown",
      "metadata": {
        "id": "62eg1OPGjT8z"
      },
      "source": [
        "### Adding the first LSTM layer and some Dropout regularisation"
      ]
    },
    {
      "cell_type": "code",
      "metadata": {
        "id": "2hIinyXUjbVU"
      },
      "source": [
        "regressor.add(LSTM(units = 50, return_sequences = True, input_shape = (X_train.shape[1], 1)))\n",
        "regressor.add(Dropout(0.25))"
      ],
      "execution_count": 8,
      "outputs": []
    },
    {
      "cell_type": "markdown",
      "metadata": {
        "id": "3XBIYLyOjlMx"
      },
      "source": [
        "### Adding a second LSTM layer and some Dropout regularisation"
      ]
    },
    {
      "cell_type": "code",
      "metadata": {
        "id": "UG7nrVaSjuZ2"
      },
      "source": [
        "regressor.add(LSTM(units = 60, return_sequences = True))\n",
        "regressor.add(Dropout(0.25))"
      ],
      "execution_count": 9,
      "outputs": []
    },
    {
      "cell_type": "markdown",
      "metadata": {
        "id": "Ey3fHVnGj1cu"
      },
      "source": [
        "### Adding a third LSTM layer and some Dropout regularisation"
      ]
    },
    {
      "cell_type": "code",
      "metadata": {
        "id": "PuNi6PgFj7jO"
      },
      "source": [
        "regressor.add(LSTM(units = 60, return_sequences = True))\n",
        "regressor.add(Dropout(0.5))"
      ],
      "execution_count": 10,
      "outputs": []
    },
    {
      "cell_type": "markdown",
      "metadata": {
        "id": "SYTrtfTmj933"
      },
      "source": [
        "### Adding a fourth LSTM layer and some Dropout regularisation"
      ]
    },
    {
      "cell_type": "code",
      "metadata": {
        "id": "Jp4Ty8fRkBYV"
      },
      "source": [
        "regressor.add(LSTM(units = 50))\n",
        "regressor.add(Dropout(0.25))"
      ],
      "execution_count": 11,
      "outputs": []
    },
    {
      "cell_type": "markdown",
      "metadata": {
        "id": "9ABI6rOIkHhk"
      },
      "source": [
        "### Adding the output layer"
      ]
    },
    {
      "cell_type": "code",
      "metadata": {
        "id": "aM6R1z4WkME8"
      },
      "source": [
        "regressor.add(Dense(units = 1))"
      ],
      "execution_count": 12,
      "outputs": []
    },
    {
      "cell_type": "markdown",
      "metadata": {
        "id": "zLx4K7uUkPSh"
      },
      "source": [
        "### Compiling the RNN"
      ]
    },
    {
      "cell_type": "code",
      "metadata": {
        "id": "XTrhVN-tkbko"
      },
      "source": [
        "regressor.compile(optimizer = 'adam', loss = 'mean_squared_error')"
      ],
      "execution_count": 13,
      "outputs": []
    },
    {
      "cell_type": "markdown",
      "metadata": {
        "id": "-mPhwKGkkebi"
      },
      "source": [
        "### Fitting the RNN to the Training set"
      ]
    },
    {
      "cell_type": "code",
      "metadata": {
        "id": "I06Nkrz5kkb-",
        "colab": {
          "base_uri": "https://localhost:8080/"
        },
        "outputId": "e97bbfc8-cdc5-41be-e7ea-f7bb488842bf"
      },
      "source": [
        "X_train = np.asarray(X_train).astype('float32')\n",
        "Y_train = np.asarray(Y_train).astype('float32')\n",
        "\n",
        "regressor.fit(X_train, y_train, epochs = 10, batch_size = 32)"
      ],
      "execution_count": 15,
      "outputs": [
        {
          "output_type": "stream",
          "name": "stdout",
          "text": [
            "Epoch 1/10\n",
            "70/70 [==============================] - 27s 283ms/step - loss: 0.0022\n",
            "Epoch 2/10\n",
            "70/70 [==============================] - 16s 233ms/step - loss: 0.0011\n",
            "Epoch 3/10\n",
            "70/70 [==============================] - 16s 233ms/step - loss: 8.9765e-04\n",
            "Epoch 4/10\n",
            "70/70 [==============================] - 16s 231ms/step - loss: 7.9657e-04\n",
            "Epoch 5/10\n",
            "70/70 [==============================] - 17s 243ms/step - loss: 6.2274e-04\n",
            "Epoch 6/10\n",
            "70/70 [==============================] - 16s 232ms/step - loss: 4.6912e-04\n",
            "Epoch 7/10\n",
            "70/70 [==============================] - 16s 233ms/step - loss: 4.8708e-04\n",
            "Epoch 8/10\n",
            "70/70 [==============================] - 17s 250ms/step - loss: 4.4082e-04\n",
            "Epoch 9/10\n",
            "70/70 [==============================] - 16s 232ms/step - loss: 3.2195e-04\n",
            "Epoch 10/10\n",
            "70/70 [==============================] - 16s 230ms/step - loss: 4.1825e-04\n"
          ]
        },
        {
          "output_type": "execute_result",
          "data": {
            "text/plain": [
              "<keras.callbacks.History at 0x7f4eb7069250>"
            ]
          },
          "metadata": {},
          "execution_count": 15
        }
      ]
    },
    {
      "cell_type": "markdown",
      "metadata": {
        "id": "4hRau_lIkrE8"
      },
      "source": [
        "## Part 3 - Making the predictions and visualising the results"
      ]
    },
    {
      "cell_type": "markdown",
      "metadata": {
        "id": "SgJO6qEDksxD"
      },
      "source": [
        "### Getting the real stock price of 2017"
      ]
    },
    {
      "cell_type": "code",
      "metadata": {
        "id": "FmBT2zqukxTz"
      },
      "source": [
        "dataset_test = pd.read_csv('BTC_Test.csv', engine='python')\n",
        "real_stock_price = dataset_test.iloc[:, 1:2].values"
      ],
      "execution_count": 16,
      "outputs": []
    },
    {
      "cell_type": "markdown",
      "metadata": {
        "id": "GrvrLblxkz42"
      },
      "source": [
        "### Getting the predicted stock price of 2017"
      ]
    },
    {
      "cell_type": "code",
      "metadata": {
        "id": "emikTvUpk3Ck",
        "colab": {
          "base_uri": "https://localhost:8080/"
        },
        "outputId": "500173a2-60f8-4ff4-a82f-69c0f0b82ae3"
      },
      "source": [
        "dataset_total = pd.concat((dataset_train['Open'], dataset_test['Open']), axis = 0)\n",
        "inputs = dataset_total[len(dataset_total) - len(dataset_test) - 20:].values\n",
        "inputs = inputs.reshape(-1,1)\n",
        "inputs = sc.transform(inputs)\n",
        "\n",
        "ma_inputs = dataset_total[len(dataset_total) - len(dataset_test) - 200:].values\n",
        "ma_inputs = ma_inputs.reshape(-1,1)\n",
        "ma_inputs = sc.transform(ma_inputs)\n",
        "\n",
        "x_test_5MA =  moving_average(ma_inputs[195:,0],5)\n",
        "x_test_10MA =  moving_average(ma_inputs[190:,0],10)\n",
        "x_test_21MA =  moving_average(ma_inputs[179:,0],21)\n",
        "x_test_50MA =  moving_average(ma_inputs[150:,0],50)\n",
        "x_test_200MA = moving_average(ma_inputs[:,0],200)\n",
        "\n",
        "X_test = []\n",
        "for i in range(20, 580):\n",
        "    X_test_joined = np.concatenate((inputs[i-20:i,0],x_test_5MA[i-20:i],x_test_10MA[i-20:i], x_test_21MA[i-20:i], x_test_50MA[i-20:i], x_test_200MA[i-20:i]), dtype=None)\n",
        "    X_test.append(X_test_joined)\n",
        "\n",
        "X_test = np.array(X_test, dtype=object)\n",
        "#X_test = np.stack(X_test) #Tömbök Tömbjéből 2D-s dolgozható tömmb\n",
        "print(X_test[47].shape)\n",
        "#print(inputs[47:67,0].shape)\n",
        "#print(x_test_5MA[66:86].shape)\n",
        "#print(x_test_10MA[46:66].shape)\n",
        "#print(x_test_21MA[46:66].shape)\n",
        "#print(x_test_50MA[46:66].shape)\n",
        "#print(x_test_200MA[46:66].shape)\n",
        "\n",
        "X_test = np.reshape(X_test, (X_test.shape[0], X_test.shape[1], 1))\n",
        "X_test = np.asarray(X_test).astype('float32')\n",
        "\n",
        "predicted_stock_price = regressor.predict(X_test)\n",
        "predicted_stock_price = sc.inverse_transform(predicted_stock_price)"
      ],
      "execution_count": 17,
      "outputs": [
        {
          "output_type": "stream",
          "name": "stdout",
          "text": [
            "(120,)\n",
            "18/18 [==============================] - 4s 127ms/step\n"
          ]
        }
      ]
    },
    {
      "cell_type": "markdown",
      "metadata": {
        "id": "iFTNs3YHk6FQ"
      },
      "source": [
        "### Visualising the results"
      ]
    },
    {
      "cell_type": "code",
      "metadata": {
        "id": "8OUI8U49k9tH",
        "colab": {
          "base_uri": "https://localhost:8080/",
          "height": 295
        },
        "outputId": "aea1d575-4848-46d7-ed9f-c05cf9a57c27"
      },
      "source": [
        "plt.plot(real_stock_price, color = 'red', label = 'Real BTC Price')\n",
        "plt.plot(predicted_stock_price, color = 'blue', label = 'Predicted BTC Price')\n",
        "plt.title('BTC Price Prediction')\n",
        "plt.xlabel('Time')\n",
        "plt.ylabel('BTC Price')\n",
        "plt.legend()\n",
        "plt.show()"
      ],
      "execution_count": 18,
      "outputs": [
        {
          "output_type": "display_data",
          "data": {
            "text/plain": [
              "<Figure size 432x288 with 1 Axes>"
            ],
            "image/png": "[encoded data removed]"
          },
          "metadata": {
            "needs_background": "light"
          }
        }
      ]
    }
  ]
}